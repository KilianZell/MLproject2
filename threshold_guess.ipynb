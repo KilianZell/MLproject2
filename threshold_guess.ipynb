{
 "cells": [
  {
   "cell_type": "code",
   "execution_count": 29,
   "id": "73d66552-7b14-43ce-b088-1dfbeac477e8",
   "metadata": {},
   "outputs": [
    {
     "name": "stdout",
     "output_type": "stream",
     "text": [
      "The autoreload extension is already loaded. To reload it, use:\n",
      "  %reload_ext autoreload\n"
     ]
    }
   ],
   "source": [
    "# Useful starting lines\n",
    "%matplotlib inline\n",
    "import numpy as np\n",
    "import os\n",
    "import sys\n",
    "from PIL import Image\n",
    "import math\n",
    "import re\n",
    "import matplotlib.image as mpimg\n",
    "import matplotlib.pyplot as plt\n",
    "%load_ext autoreload\n",
    "%autoreload 2"
   ]
  },
  {
   "cell_type": "markdown",
   "id": "7705428d-c583-4164-a8c1-6e5db6b63548",
   "metadata": {},
   "source": [
    "# Get train data"
   ]
  },
  {
   "cell_type": "markdown",
   "id": "ee9ba473-bb69-40ab-b2d3-9420496043f4",
   "metadata": {},
   "source": [
    "## Get groundtruth"
   ]
  },
  {
   "cell_type": "markdown",
   "id": "dbb61722-64e6-43d8-a9f7-c82be14c3e97",
   "metadata": {},
   "source": [
    "### Functions"
   ]
  },
  {
   "cell_type": "code",
   "execution_count": 30,
   "id": "58a3efd4-7512-4b81-9eb3-62f77aea456c",
   "metadata": {},
   "outputs": [],
   "source": [
    "def load_data(path_file):\n",
    "    \"\"\"load data.\"\"\"\n",
    "    data = np.genfromtxt(\n",
    "        path_file, delimiter=\",\", skip_header=1)\n",
    "    y = np.genfromtxt(\n",
    "        path_file, delimiter=\",\", skip_header=1, usecols=[1],dtype=int)\n",
    "    return y"
   ]
  },
  {
   "cell_type": "markdown",
   "id": "9cd0f2ae-ac74-4af0-a270-efb5fa69f31c",
   "metadata": {},
   "source": [
    "### Load data groundtruth"
   ]
  },
  {
   "cell_type": "code",
   "execution_count": 31,
   "id": "a32390aa-4541-497e-a613-348108b3f3b0",
   "metadata": {},
   "outputs": [
    {
     "name": "stdout",
     "output_type": "stream",
     "text": [
      "[0 0 0 0 0 0 0 0 0 0]\n",
      "(62500,)\n"
     ]
    }
   ],
   "source": [
    "DATA_FOLDER = 'DATA/'\n",
    "DATA_TRAIN = 'train_submission.csv'\n",
    "\n",
    "y = load_data(DATA_FOLDER+DATA_TRAIN)\n",
    "print(y[:10])\n",
    "print(y.shape)"
   ]
  },
  {
   "cell_type": "markdown",
   "id": "8edee4e3-24b8-4332-a107-9b686bdc7b41",
   "metadata": {},
   "source": [
    "## Get mean_data"
   ]
  },
  {
   "cell_type": "code",
   "execution_count": 32,
   "id": "04e90ff3-d3f6-4cee-b38d-c78dec6aeb1d",
   "metadata": {},
   "outputs": [
    {
     "name": "stdout",
     "output_type": "stream",
     "text": [
      "62500\n",
      "[0.19116116, 0.19870813, 0.32159415, 0.36853552, 0.21805046, 0.3175756, 0.20872141, 0.20118976, 0.36087623, 0.253365]\n"
     ]
    }
   ],
   "source": [
    "mean_patches = []\n",
    "for i in range(1, 101):\n",
    "    image_filename = 'DATA/training/images/satImage_' + '%.3d' % i + '.png'\n",
    "    \n",
    "    img_number = int(re.search(r\"\\d+\", image_filename).group(0))\n",
    "    im = mpimg.imread(image_filename)\n",
    "    patch_size = 16\n",
    "    for j in range(0, im.shape[1], patch_size):\n",
    "        for i in range(0, im.shape[0], patch_size):\n",
    "            patch = im[i:i + patch_size, j:j + patch_size]\n",
    "            mean_patch = np.mean(patch) #Get patch mean\n",
    "            mean_patches.append(mean_patch)\n",
    "            \n",
    "            \n",
    "print(len(mean_patches))\n",
    "print(mean_patches[:10])"
   ]
  },
  {
   "cell_type": "markdown",
   "id": "f7193428-b3a9-4d16-a6cf-bfba29a5f66e",
   "metadata": {},
   "source": [
    "## Normalization"
   ]
  },
  {
   "cell_type": "markdown",
   "id": "035da7f5-7735-4833-b009-61c47c3577b9",
   "metadata": {},
   "source": [
    "#### Function"
   ]
  },
  {
   "cell_type": "code",
   "execution_count": 33,
   "id": "84521c51-be9d-4a72-a5ae-10977b652d0a",
   "metadata": {},
   "outputs": [],
   "source": [
    "def standardize(x_list):\n",
    "    mean = np.mean(x_list)\n",
    "    std = np.std(x_list)\n",
    "    for i in range(len(x_list)):\n",
    "        x_list[i] = (x_list[i]-mean)/std\n",
    "    return x_list"
   ]
  },
  {
   "cell_type": "code",
   "execution_count": 34,
   "id": "23cedd28-b6a0-4a64-8337-bc73f6b9914a",
   "metadata": {},
   "outputs": [
    {
     "name": "stdout",
     "output_type": "stream",
     "text": [
      "62500\n",
      "[-1.0156374, -0.9559706, 0.0155737065, 0.38669503, -0.8030489, -0.016197154, -0.87680495, -0.9363507, 0.32614022, -0.52385]\n",
      "5.291933\n"
     ]
    }
   ],
   "source": [
    "mean_patches = standardize(mean_patches)\n",
    "\n",
    "print(len(mean_patches))\n",
    "print(mean_patches[:10])\n",
    "print(np.amax(mean_patches))"
   ]
  },
  {
   "cell_type": "markdown",
   "id": "74da0241-8423-4e86-b12d-d514a4fd0561",
   "metadata": {},
   "source": [
    "# Split train and test"
   ]
  },
  {
   "cell_type": "markdown",
   "id": "8bc11fa4-9352-4856-88e5-cdc8011ab09f",
   "metadata": {},
   "source": [
    "## Function(s)"
   ]
  },
  {
   "cell_type": "code",
   "execution_count": 35,
   "id": "2d945f07-b63f-41d5-a08f-d5d5954ecb37",
   "metadata": {},
   "outputs": [],
   "source": [
    "def split_data(x, y, ratio=0.7, seed=1):\n",
    "\n",
    "    np.random.seed(seed)\n",
    "    \n",
    "    N = x.shape[0]\n",
    "    cut = int(N*ratio)\n",
    "    permutation = np.random.permutation(N)\n",
    "    x,y = x[permutation],y[permutation]\n",
    "    return x[:cut],x[cut:],y[:cut],y[cut:]"
   ]
  },
  {
   "cell_type": "markdown",
   "id": "e0c04e0f-0db1-45b0-be72-26571bb0a092",
   "metadata": {},
   "source": [
    "## Split"
   ]
  },
  {
   "cell_type": "code",
   "execution_count": 36,
   "id": "6238125b-b968-4228-9ead-92c788da0d26",
   "metadata": {},
   "outputs": [
    {
     "name": "stdout",
     "output_type": "stream",
     "text": [
      "43750\n",
      "43750\n",
      "18750\n",
      "18750\n"
     ]
    }
   ],
   "source": [
    "x = np.asarray(mean_patches).T\n",
    "\n",
    "split_ratio = 0.7\n",
    "\n",
    "x_tr, x_te, y_tr, y_te = split_data(x, y, ratio=split_ratio)\n",
    "\n",
    "print(len(x_tr))\n",
    "print(len(y_tr))\n",
    "print(len(x_te))\n",
    "print(len(y_te))"
   ]
  },
  {
   "cell_type": "markdown",
   "id": "ef0f8afb-a3f0-4e10-a985-34281a0e2c06",
   "metadata": {},
   "source": [
    "# Scores"
   ]
  },
  {
   "cell_type": "markdown",
   "id": "d23b8b97-a8af-474d-b42c-33493d19b259",
   "metadata": {},
   "source": [
    "## Functions"
   ]
  },
  {
   "cell_type": "code",
   "execution_count": 37,
   "id": "ee2d24b2-e32f-454d-ac01-c4eb0c0ce19c",
   "metadata": {},
   "outputs": [],
   "source": [
    "def classify(y, seuil):\n",
    "    \"\"\"projects y on {0,1}\"\"\"\n",
    "    y[y<seuil] = 0\n",
    "    y[y>=seuil] = 1\n",
    "    return y\n",
    "\n",
    "def check_model(x_test,y_test, seuil):\n",
    "    y = classify(x_test, seuil)\n",
    "    diff= (y_test == classify(y, seuil))\n",
    "    accuracy = diff.sum()/len(diff)\n",
    "    return y,accuracy"
   ]
  },
  {
   "cell_type": "markdown",
   "id": "063c49b1-cb85-4bb4-bb9e-e8694f0e7f77",
   "metadata": {},
   "source": [
    "## Train Score"
   ]
  },
  {
   "cell_type": "code",
   "execution_count": 38,
   "id": "70768dc8-2d4b-4764-b703-84938f38634b",
   "metadata": {},
   "outputs": [
    {
     "data": {
      "text/plain": [
       "(array([0., 1., 0., ..., 0., 1., 0.], dtype=float32), 0.6219885714285714)"
      ]
     },
     "execution_count": 38,
     "metadata": {},
     "output_type": "execute_result"
    }
   ],
   "source": [
    "seuil = 0.4\n",
    "\n",
    "check_model(x_tr, y_tr, seuil)"
   ]
  },
  {
   "cell_type": "markdown",
   "id": "860baba9-98ab-4d7c-bf33-0a02e58ebc6b",
   "metadata": {
    "tags": []
   },
   "source": [
    "## Test Score"
   ]
  },
  {
   "cell_type": "code",
   "execution_count": 39,
   "id": "8503be26-b351-4ff6-8bc0-7a7547cd8928",
   "metadata": {},
   "outputs": [
    {
     "data": {
      "text/plain": [
       "(array([0., 0., 0., ..., 0., 0., 0.], dtype=float32), 0.62544)"
      ]
     },
     "execution_count": 39,
     "metadata": {},
     "output_type": "execute_result"
    }
   ],
   "source": [
    "check_model(x_te, y_te, seuil)"
   ]
  },
  {
   "cell_type": "markdown",
   "id": "96a1686a-6108-4b36-88fa-e39c8469b1f9",
   "metadata": {},
   "source": [
    "# Conclusion"
   ]
  },
  {
   "cell_type": "markdown",
   "id": "a25221bb-e262-4805-b333-94473fa166e4",
   "metadata": {},
   "source": [
    "Opt params:\n",
    "    \n",
    "    thresh = 0.4\n",
    "\n",
    "Train score:  0.6220845714285714  +/- 0.0008428768046954921\n",
    "\n",
    "Test  score:  0.625216  +/- 0.001966712544289519\n",
    "\n",
    "Aicrownd score : F1 SCORE = 0.260, ACCURACY = 0.608 (Submission #205603)"
   ]
  },
  {
   "cell_type": "markdown",
   "id": "fe1bd17c-ecc4-4b12-9e42-7951c37f8abc",
   "metadata": {
    "tags": []
   },
   "source": [
    "# Submission"
   ]
  },
  {
   "cell_type": "markdown",
   "id": "e2efaed8-6fa7-4bb3-9eb0-8b6c96ef42b4",
   "metadata": {},
   "source": [
    "## Get the data"
   ]
  },
  {
   "cell_type": "code",
   "execution_count": 12,
   "id": "e9ef8adf-d964-42c5-8a7b-485a61d176f5",
   "metadata": {},
   "outputs": [
    {
     "name": "stdout",
     "output_type": "stream",
     "text": [
      "72200\n",
      "[0.4114022, 0.27899304, 0.35060254, 0.23368056, 0.30746529, 0.2864941, 0.2691636, 0.29165134, 0.33160743, 0.3213797]\n"
     ]
    }
   ],
   "source": [
    "mean_patches = []\n",
    "for i in range(1, 51):\n",
    "    image_filename = 'DATA/test_set_images/test_' + str(i) +'/test_' + str(i) + '.png'\n",
    "    \n",
    "    img_number = int(re.search(r\"\\d+\", image_filename).group(0))\n",
    "    im = mpimg.imread(image_filename)\n",
    "    patch_size = 16\n",
    "    \n",
    "    for j in range(0, im.shape[1], patch_size):\n",
    "        for i in range(0, im.shape[0], patch_size):\n",
    "            patch = im[i:i + patch_size, j:j + patch_size]\n",
    "            mean_patch = np.mean(patch) #Get patch mean\n",
    "            mean_patches.append(mean_patch)\n",
    "            \n",
    "            \n",
    "print(len(mean_patches))\n",
    "print(mean_patches[:10])"
   ]
  },
  {
   "cell_type": "markdown",
   "id": "d9a84e64-fe81-4c4c-b810-ea3886beed17",
   "metadata": {},
   "source": [
    "## Standerdize"
   ]
  },
  {
   "cell_type": "code",
   "execution_count": 13,
   "id": "72b6f54a-1c17-4970-9da3-b4275e3338b0",
   "metadata": {},
   "outputs": [
    {
     "name": "stdout",
     "output_type": "stream",
     "text": [
      "72200\n",
      "[0.7235832, -0.33005232, 0.23977467, -0.69062287, -0.10348666, -0.27036318, -0.40826926, -0.2293249, 0.08862259, 0.0072361478]\n",
      "5.397431\n"
     ]
    }
   ],
   "source": [
    "mean_patches = standardize(mean_patches)\n",
    "\n",
    "print(len(mean_patches))\n",
    "print(mean_patches[:10])\n",
    "print(np.amax(mean_patches))"
   ]
  },
  {
   "cell_type": "markdown",
   "id": "bce40f84-01e2-4db2-bd17-310f57c161df",
   "metadata": {},
   "source": [
    "## Apply threshold guess"
   ]
  },
  {
   "cell_type": "code",
   "execution_count": 14,
   "id": "9fa9372e-8fc7-4933-b2f0-c95a91b6fefb",
   "metadata": {},
   "outputs": [
    {
     "name": "stdout",
     "output_type": "stream",
     "text": [
      "[1. 0. 0. 0. 0. 0. 0. 0. 0. 0.]\n"
     ]
    }
   ],
   "source": [
    "seuil = 0.39\n",
    "\n",
    "x = np.asarray(mean_patches).T\n",
    "x = classify(x, seuil)\n",
    "\n",
    "print(x[:10])"
   ]
  },
  {
   "cell_type": "markdown",
   "id": "4748ceec-19bb-4d5f-881d-c24a4a592a88",
   "metadata": {
    "tags": []
   },
   "source": [
    "## Write submission file"
   ]
  },
  {
   "cell_type": "markdown",
   "id": "ccae4426-03df-4279-a561-f26145bcfd60",
   "metadata": {},
   "source": [
    "### Function(s)"
   ]
  },
  {
   "cell_type": "code",
   "execution_count": 15,
   "id": "e65c0a7b-712d-46b7-9281-d565e3376b8f",
   "metadata": {},
   "outputs": [],
   "source": [
    "def guess_to_submission_strings(image_filename, guess, initial_, img_number):\n",
    "    #img_number = int(re.search(r\"\\d+\", image_filename).group(0))\n",
    "        \n",
    "    im = mpimg.imread(image_filename)\n",
    "    patch_size = 16\n",
    "    k = initial_\n",
    "    \n",
    "    for j in range(0, im.shape[1], patch_size):\n",
    "        for i in range(0, im.shape[0], patch_size):\n",
    "            guess_i = guess[k]            \n",
    "            patch = im[i:i + patch_size, j:j + patch_size]\n",
    "            \n",
    "            yield(\"{:03d}_{}_{}, {}\".format(img_number, j, i, guess_i))\n",
    "            k = k + 1\n",
    "\n",
    "def guess_to_submission(submission_filename, *image_filenames, guess):\n",
    "    with open(submission_filename, 'w') as f:\n",
    "        f.write('id,prediction\\n')\n",
    "        \n",
    "        initial_ = 0\n",
    "        img_number = 1\n",
    "        \n",
    "        for fn in image_filenames[0:]:\n",
    "            f.writelines('{}\\n'.format(s) for s in guess_to_submission_strings(image_filename, guess, initial_, img_number))\n",
    "            initial_ = initial_ + 1443\n",
    "            img_number = img_number + 1"
   ]
  },
  {
   "cell_type": "markdown",
   "id": "ede0dfd7-2195-4087-ac6f-c707efbd2878",
   "metadata": {},
   "source": [
    "### Write threshold_guess_submission.csv"
   ]
  },
  {
   "cell_type": "code",
   "execution_count": 16,
   "id": "855fdd14-50c2-4872-9d20-a065c5865a08",
   "metadata": {},
   "outputs": [
    {
     "name": "stdout",
     "output_type": "stream",
     "text": [
      "DATA/test_set_images/test_50/test_50.png\r"
     ]
    }
   ],
   "source": [
    "seuil = 0.4\n",
    "\n",
    "guess = classify(x, seuil)\n",
    "\n",
    "submission_filename = 'threshold_guess_submission.csv'\n",
    "image_filenames = []\n",
    "for i in range(1, 51):\n",
    "    \n",
    "    image_filename = 'DATA/test_set_images/test_' + str(i) +'/test_' + str(i) + '.png'\n",
    "    print(image_filename, end=\"\\r\")\n",
    "    image_filenames.append(image_filename)\n",
    "\n",
    "guess_to_submission(submission_filename, *image_filenames, guess = guess)"
   ]
  },
  {
   "cell_type": "markdown",
   "id": "a496b84b-e4b8-4cf4-b51d-6db138cb2799",
   "metadata": {},
   "source": [
    "## Get mask from submission file"
   ]
  },
  {
   "cell_type": "markdown",
   "id": "d1000f1d-451c-4b0f-9d2a-8f42f30c6e5b",
   "metadata": {},
   "source": [
    "### Function(s)"
   ]
  },
  {
   "cell_type": "code",
   "execution_count": 27,
   "id": "0bbb6bd9-3cc3-46c8-8a83-e6616bd26f22",
   "metadata": {},
   "outputs": [],
   "source": [
    "import math\n",
    "\n",
    "label_file = 'Submissions/threshold_guess_submission.csv'\n",
    "\n",
    "h = 16\n",
    "w = h\n",
    "imgwidth = int(math.ceil((600.0/w))*w)\n",
    "imgheight = int(math.ceil((600.0/h))*h)\n",
    "nc = 3\n",
    "\n",
    "# Convert an array of binary labels to a uint8\n",
    "def binary_to_uint8(img):\n",
    "    rimg = (img * 255).round().astype(np.uint8)\n",
    "    return rimg\n",
    "\n",
    "def reconstruct_from_labels(image_id):\n",
    "    im = np.zeros((imgwidth, imgheight), dtype=np.uint8)\n",
    "    f = open(label_file)\n",
    "    lines = f.readlines()\n",
    "    image_id_str = '%.3d_' % image_id\n",
    "    for i in range(1, len(lines)):\n",
    "        line = lines[i]\n",
    "        if not image_id_str in line:\n",
    "            continue\n",
    "\n",
    "        tokens = line.split(',')\n",
    "        id = tokens[0]\n",
    "        prediction = int(float(tokens[1]))\n",
    "        tokens = id.split('_')\n",
    "        i = int(float(tokens[1]))\n",
    "        j = int(tokens[2])\n",
    "\n",
    "        je = min(j+w, imgwidth)\n",
    "        ie = min(i+h, imgheight)\n",
    "        if prediction == 0:\n",
    "            adata = np.zeros((w,h))\n",
    "        else:\n",
    "            adata = np.ones((w,h))\n",
    "\n",
    "        im[j:je, i:ie] = binary_to_uint8(adata)\n",
    "\n",
    "    Image.fromarray(im).save('Predictions/threshold_guess/prediction_' + '%.3d' % image_id + '.png')\n",
    "\n",
    "    return im"
   ]
  },
  {
   "cell_type": "markdown",
   "id": "d02bd362-7fb3-4c03-825b-ec58e4b3484f",
   "metadata": {},
   "source": [
    "### Images reconstruction"
   ]
  },
  {
   "cell_type": "code",
   "execution_count": 28,
   "id": "8a16a409-9cfc-4281-b7ad-67a50de7f3ba",
   "metadata": {},
   "outputs": [],
   "source": [
    "for i in range(1, 51):\n",
    "    reconstruct_from_labels(i)"
   ]
  },
  {
   "cell_type": "markdown",
   "id": "a2531399-33a7-428e-81f4-9304cc5bb2fc",
   "metadata": {
    "jp-MarkdownHeadingCollapsed": true,
    "tags": []
   },
   "source": [
    "# Optimisation and cross validation"
   ]
  },
  {
   "cell_type": "markdown",
   "id": "e228397c-fe63-4169-9f3e-bf082c5325f5",
   "metadata": {},
   "source": [
    "## Function(s)"
   ]
  },
  {
   "cell_type": "code",
   "execution_count": 147,
   "id": "4bd3238d-3cdd-4c0b-b657-5cc1d2221917",
   "metadata": {},
   "outputs": [],
   "source": [
    "from scipy.stats import t\n",
    "from scipy import sqrt\n",
    "from statistics import variance, mean \n",
    "\n",
    "def int_ech(values,conf=0.95) :\n",
    "    n = len(values) \n",
    "    m = mean(values) \n",
    "    s = variance(values)\n",
    "    proba = (1-conf)*100 ; proba = (100-proba/2)/100 \n",
    "    ddl = n - 1\n",
    "    intervalle = sqrt(s/n) * t.ppf(proba, ddl)\n",
    "    return(intervalle)"
   ]
  },
  {
   "cell_type": "markdown",
   "id": "b2c07f36-1f27-48c3-8ab4-b63cf42907f4",
   "metadata": {},
   "source": [
    "## Scores and cross validation train"
   ]
  },
  {
   "cell_type": "code",
   "execution_count": 162,
   "id": "69c43e43-0d1f-4b39-8dd4-e17b598e6264",
   "metadata": {},
   "outputs": [
    {
     "name": "stderr",
     "output_type": "stream",
     "text": [
      "/tmp/ipykernel_666/137138419.py:11: DeprecationWarning: scipy.sqrt is deprecated and will be removed in SciPy 2.0.0, use numpy.lib.scimath.sqrt instead\n",
      "  intervalle = sqrt(s/n) * t.ppf(proba, ddl)\n"
     ]
    },
    {
     "name": "stdout",
     "output_type": "stream",
     "text": [
      "[thresh =  0.3999999999999998 ],  0.6220845714285714  +/- 0.0008428768046954921\n"
     ]
    }
   ],
   "source": [
    "x = np.asarray(mean_patches).T\n",
    "\n",
    "threshold_list = list(np.arange(-0.5, 0.5, 0.1))\n",
    "\n",
    "seed_list = list(np.arange(0, 10, 1))\n",
    "\n",
    "mean_scores = np.zeros((len(threshold_list), 3))\n",
    "\n",
    "scores = []\n",
    "\n",
    "for i in range(len(threshold_list)):\n",
    "    thresh_ = threshold_list[i]\n",
    "    for k in range(len(seed_list)):\n",
    "        seed_ = seed_list[k]\n",
    "        x_tr, x_te, y_tr, y_te = split_data(x, y, ratio=0.7, seed = seed_)\n",
    "    \n",
    "        scores.append(check_model(x_tr, y_tr, thresh_)[1])\n",
    "    \n",
    "    mean_scores[i] = [thresh_, np.mean(scores), int_ech(scores,conf=0.95)]\n",
    "    scores = []\n",
    "\n",
    "max_ = np.argmax(mean_scores[:, 1])\n",
    "\n",
    "print(\"[thresh = \", mean_scores[max_][0], \"], \", mean_scores[max_][1], \" +/-\", mean_scores[max_][2])"
   ]
  },
  {
   "cell_type": "markdown",
   "id": "bf2dd94b-3041-4e34-97f7-11e73c7f0e63",
   "metadata": {},
   "source": [
    "## Cross validation test"
   ]
  },
  {
   "cell_type": "code",
   "execution_count": 163,
   "id": "fab416e0-b4ae-4bfe-b6bd-9fad095b1962",
   "metadata": {},
   "outputs": [
    {
     "name": "stdout",
     "output_type": "stream",
     "text": [
      "0.625216  +/- 0.001966712544289519\n"
     ]
    },
    {
     "name": "stderr",
     "output_type": "stream",
     "text": [
      "/tmp/ipykernel_666/137138419.py:11: DeprecationWarning: scipy.sqrt is deprecated and will be removed in SciPy 2.0.0, use numpy.lib.scimath.sqrt instead\n",
      "  intervalle = sqrt(s/n) * t.ppf(proba, ddl)\n"
     ]
    }
   ],
   "source": [
    "thresh_ = 0.4\n",
    "\n",
    "x = np.asarray(mean_patches).T\n",
    "\n",
    "seed_list = list(np.arange(0, 10, 1))\n",
    "\n",
    "scores = []\n",
    "    \n",
    "for k in range(len(seed_list)):\n",
    "    seed_ = seed_list[k]\n",
    "    \n",
    "    x_tr, x_te, y_tr, y_te = split_data(x, y, ratio=0.7, seed = seed_)\n",
    "        \n",
    "    scores.append(check_model(x_te, y_te, thresh_)[1])\n",
    "\n",
    "print(np.mean(scores), \" +/-\", int_ech(scores,conf=0.95))"
   ]
  }
 ],
 "metadata": {
  "kernelspec": {
   "display_name": "Python",
   "language": "python",
   "name": "python3"
  },
  "language_info": {
   "codemirror_mode": {
    "name": "ipython",
    "version": 3
   },
   "file_extension": ".py",
   "mimetype": "text/x-python",
   "name": "python",
   "nbconvert_exporter": "python",
   "pygments_lexer": "ipython3",
   "version": "3.8.10"
  }
 },
 "nbformat": 4,
 "nbformat_minor": 5
}
