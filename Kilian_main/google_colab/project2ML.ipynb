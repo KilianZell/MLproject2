{
  "nbformat": 4,
  "nbformat_minor": 0,
  "metadata": {
    "colab": {
      "provenance": []
    },
    "kernelspec": {
      "name": "python3",
      "display_name": "Python 3"
    },
    "language_info": {
      "name": "python"
    },
    "accelerator": "GPU",
    "gpuClass": "standard"
  },
  "cells": [
    {
      "cell_type": "code",
      "execution_count": 4,
      "metadata": {
        "colab": {
          "base_uri": "https://localhost:8080/"
        },
        "id": "i2HB7tR2Oy-1",
        "outputId": "57279448-27fa-47f9-b98a-0aeef75e5c7d"
      },
      "outputs": [
        {
          "output_type": "stream",
          "name": "stdout",
          "text": [
            "Thu Dec  1 05:55:09 2022       \n",
            "+-----------------------------------------------------------------------------+\n",
            "| NVIDIA-SMI 460.32.03    Driver Version: 460.32.03    CUDA Version: 11.2     |\n",
            "|-------------------------------+----------------------+----------------------+\n",
            "| GPU  Name        Persistence-M| Bus-Id        Disp.A | Volatile Uncorr. ECC |\n",
            "| Fan  Temp  Perf  Pwr:Usage/Cap|         Memory-Usage | GPU-Util  Compute M. |\n",
            "|                               |                      |               MIG M. |\n",
            "|===============================+======================+======================|\n",
            "|   0  Tesla T4            Off  | 00000000:00:04.0 Off |                    0 |\n",
            "| N/A   58C    P0    29W /  70W |      0MiB / 15109MiB |      0%      Default |\n",
            "|                               |                      |                  N/A |\n",
            "+-------------------------------+----------------------+----------------------+\n",
            "                                                                               \n",
            "+-----------------------------------------------------------------------------+\n",
            "| Processes:                                                                  |\n",
            "|  GPU   GI   CI        PID   Type   Process name                  GPU Memory |\n",
            "|        ID   ID                                                   Usage      |\n",
            "|=============================================================================|\n",
            "|  No running processes found                                                 |\n",
            "+-----------------------------------------------------------------------------+\n"
          ]
        }
      ],
      "source": [
        "!nvidia-smi"
      ]
    },
    {
      "cell_type": "code",
      "source": [
        "!pip install split-folders"
      ],
      "metadata": {
        "colab": {
          "base_uri": "https://localhost:8080/"
        },
        "id": "CsDJElbDQSTu",
        "outputId": "1d63c143-eb5d-48ea-be0d-bdcd09629e74"
      },
      "execution_count": 7,
      "outputs": [
        {
          "output_type": "stream",
          "name": "stdout",
          "text": [
            "Looking in indexes: https://pypi.org/simple, https://us-python.pkg.dev/colab-wheels/public/simple/\n",
            "Collecting split-folders\n",
            "  Downloading split_folders-0.5.1-py3-none-any.whl (8.4 kB)\n",
            "Installing collected packages: split-folders\n",
            "Successfully installed split-folders-0.5.1\n"
          ]
        }
      ]
    },
    {
      "cell_type": "code",
      "source": [
        "!pip install matplotlib"
      ],
      "metadata": {
        "colab": {
          "base_uri": "https://localhost:8080/"
        },
        "id": "j1TlVmw-U2xD",
        "outputId": "813258d0-345e-48a9-eefd-8921f7262fa9"
      },
      "execution_count": 10,
      "outputs": [
        {
          "output_type": "stream",
          "name": "stdout",
          "text": [
            "Looking in indexes: https://pypi.org/simple, https://us-python.pkg.dev/colab-wheels/public/simple/\n",
            "Requirement already satisfied: matplotlib in /usr/local/lib/python3.8/dist-packages (3.2.2)\n",
            "Requirement already satisfied: kiwisolver>=1.0.1 in /usr/local/lib/python3.8/dist-packages (from matplotlib) (1.4.4)\n",
            "Requirement already satisfied: cycler>=0.10 in /usr/local/lib/python3.8/dist-packages (from matplotlib) (0.11.0)\n",
            "Requirement already satisfied: python-dateutil>=2.1 in /usr/local/lib/python3.8/dist-packages (from matplotlib) (2.8.2)\n",
            "Requirement already satisfied: numpy>=1.11 in /usr/local/lib/python3.8/dist-packages (from matplotlib) (1.21.6)\n",
            "Requirement already satisfied: pyparsing!=2.0.4,!=2.1.2,!=2.1.6,>=2.0.1 in /usr/local/lib/python3.8/dist-packages (from matplotlib) (3.0.9)\n",
            "Requirement already satisfied: six>=1.5 in /usr/local/lib/python3.8/dist-packages (from python-dateutil>=2.1->matplotlib) (1.15.0)\n"
          ]
        }
      ]
    },
    {
      "cell_type": "code",
      "source": [
        "!python /content/data_augmentation.py"
      ],
      "metadata": {
        "colab": {
          "base_uri": "https://localhost:8080/"
        },
        "id": "0XyG1Uf8S4Lm",
        "outputId": "5692bddb-85d1-467f-a8cd-9a25eb737aa3"
      },
      "execution_count": 8,
      "outputs": [
        {
          "output_type": "stream",
          "name": "stdout",
          "text": [
            "Copying files: 1200 files [00:00, 4418.37 files/s]\n"
          ]
        }
      ]
    },
    {
      "cell_type": "code",
      "source": [
        "!python /content/train.py"
      ],
      "metadata": {
        "colab": {
          "base_uri": "https://localhost:8080/"
        },
        "id": "f8QOKp0TUS3Q",
        "outputId": "1b07cf65-a54e-45fb-d42c-993ab3d43f55"
      },
      "execution_count": null,
      "outputs": [
        {
          "output_type": "stream",
          "name": "stdout",
          "text": [
            "Accuracy: 22.26\n",
            "Epoch:  1\n",
            "100% 114/114 [00:16<00:00,  6.96it/s, loss=0.653]\n",
            "=> Saving model\n",
            "=> Model saved at:  models/my_checkpoint.pth.tar\n",
            "Accuracy: 57.36\n",
            "Epoch:  2\n",
            "100% 114/114 [00:16<00:00,  6.97it/s, loss=0.563]\n",
            "=> Saving model\n",
            "=> Model saved at:  models/my_checkpoint.pth.tar\n",
            "Accuracy: 87.11\n",
            "Epoch:  3\n",
            "100% 114/114 [00:16<00:00,  6.80it/s, loss=0.497]\n",
            "=> Saving model\n",
            "=> Model saved at:  models/my_checkpoint.pth.tar\n",
            "Accuracy: 89.84\n",
            "Epoch:  4\n",
            "100% 114/114 [00:17<00:00,  6.58it/s, loss=0.477]\n",
            "=> Saving model\n",
            "=> Model saved at:  models/my_checkpoint.pth.tar\n",
            "Accuracy: 92.25\n",
            "Epoch:  5\n",
            "100% 114/114 [00:16<00:00,  6.76it/s, loss=0.414]\n",
            "=> Saving model\n",
            "=> Model saved at:  models/my_checkpoint.pth.tar\n",
            "Accuracy: 92.64\n",
            "Epoch:  6\n",
            "100% 114/114 [00:16<00:00,  6.82it/s, loss=0.351]\n",
            "=> Saving model\n",
            "=> Model saved at:  models/my_checkpoint.pth.tar\n",
            "Accuracy: 92.54\n",
            "Epoch:  7\n",
            "100% 114/114 [00:16<00:00,  6.80it/s, loss=0.378]\n",
            "=> Saving model\n",
            "=> Model saved at:  models/my_checkpoint.pth.tar\n",
            "Accuracy: 91.89\n",
            "Epoch:  8\n",
            "100% 114/114 [00:16<00:00,  6.76it/s, loss=0.331]\n",
            "=> Saving model\n",
            "=> Model saved at:  models/my_checkpoint.pth.tar\n",
            "Accuracy: 93.39\n",
            "Epoch:  9\n",
            "100% 114/114 [00:16<00:00,  6.77it/s, loss=0.331]\n",
            "=> Saving model\n",
            "=> Model saved at:  models/my_checkpoint.pth.tar\n",
            "Accuracy: 93.42\n",
            "Epoch:  10\n",
            "100% 114/114 [00:16<00:00,  6.78it/s, loss=0.335]\n",
            "=> Saving model\n",
            "=> Model saved at:  models/my_checkpoint.pth.tar\n",
            "Accuracy: 92.95\n",
            "Epoch:  11\n",
            "100% 114/114 [00:16<00:00,  6.77it/s, loss=0.34]\n",
            "=> Saving model\n",
            "=> Model saved at:  models/my_checkpoint.pth.tar\n",
            "Accuracy: 93.88\n",
            "/content/plot.py:8: RuntimeWarning: More than 20 figures have been opened. Figures created through the pyplot interface (`matplotlib.pyplot.figure`) are retained until explicitly closed and may consume too much memory. (To control this warning, see the rcParam `figure.max_open_warning`).\n",
            "  plt.figure(epoch+100)\n",
            "/content/plot.py:22: RuntimeWarning: More than 20 figures have been opened. Figures created through the pyplot interface (`matplotlib.pyplot.figure`) are retained until explicitly closed and may consume too much memory. (To control this warning, see the rcParam `figure.max_open_warning`).\n",
            "  plt.figure(epoch)\n",
            "Epoch:  12\n",
            "100% 114/114 [00:16<00:00,  6.77it/s, loss=0.341]\n",
            "=> Saving model\n",
            "=> Model saved at:  models/my_checkpoint.pth.tar\n",
            "Accuracy: 92.52\n"
          ]
        }
      ]
    }
  ]
}